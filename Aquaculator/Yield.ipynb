{
 "cells": [
  {
   "cell_type": "code",
   "execution_count": 1,
   "metadata": {},
   "outputs": [],
   "source": [
    "import pandas as pd\n",
    "import numpy as np\n",
    "import seaborn as sns\n",
    "import matplotlib.pyplot as plt\n",
    "%matplotlib inline "
   ]
  },
  {
   "cell_type": "code",
   "execution_count": 2,
   "metadata": {},
   "outputs": [],
   "source": [
    "cal = pd.read_csv(\"Datasets/yield.csv\")\n",
    "exe = pd.read_csv(\"Datasets/cost.csv\")"
   ]
  },
  {
   "cell_type": "code",
   "execution_count": 3,
   "metadata": {},
   "outputs": [
    {
     "data": {
      "text/html": [
       "<div>\n",
       "<style scoped>\n",
       "    .dataframe tbody tr th:only-of-type {\n",
       "        vertical-align: middle;\n",
       "    }\n",
       "\n",
       "    .dataframe tbody tr th {\n",
       "        vertical-align: top;\n",
       "    }\n",
       "\n",
       "    .dataframe thead th {\n",
       "        text-align: right;\n",
       "    }\n",
       "</style>\n",
       "<table border=\"1\" class=\"dataframe\">\n",
       "  <thead>\n",
       "    <tr style=\"text-align: right;\">\n",
       "      <th></th>\n",
       "      <th>Aquaponics_ID</th>\n",
       "      <th>Yield</th>\n",
       "    </tr>\n",
       "  </thead>\n",
       "  <tbody>\n",
       "    <tr>\n",
       "      <th>0</th>\n",
       "      <td>1</td>\n",
       "      <td>1800.00</td>\n",
       "    </tr>\n",
       "    <tr>\n",
       "      <th>1</th>\n",
       "      <td>2</td>\n",
       "      <td>533.33</td>\n",
       "    </tr>\n",
       "    <tr>\n",
       "      <th>2</th>\n",
       "      <td>3</td>\n",
       "      <td>523.50</td>\n",
       "    </tr>\n",
       "    <tr>\n",
       "      <th>3</th>\n",
       "      <td>4</td>\n",
       "      <td>30100.00</td>\n",
       "    </tr>\n",
       "    <tr>\n",
       "      <th>4</th>\n",
       "      <td>5</td>\n",
       "      <td>4800.00</td>\n",
       "    </tr>\n",
       "  </tbody>\n",
       "</table>\n",
       "</div>"
      ],
      "text/plain": [
       "   Aquaponics_ID     Yield\n",
       "0              1   1800.00\n",
       "1              2    533.33\n",
       "2              3    523.50\n",
       "3              4  30100.00\n",
       "4              5   4800.00"
      ]
     },
     "execution_count": 3,
     "metadata": {},
     "output_type": "execute_result"
    }
   ],
   "source": [
    "cal.head()"
   ]
  },
  {
   "cell_type": "code",
   "execution_count": 4,
   "metadata": {},
   "outputs": [
    {
     "data": {
      "text/html": [
       "<div>\n",
       "<style scoped>\n",
       "    .dataframe tbody tr th:only-of-type {\n",
       "        vertical-align: middle;\n",
       "    }\n",
       "\n",
       "    .dataframe tbody tr th {\n",
       "        vertical-align: top;\n",
       "    }\n",
       "\n",
       "    .dataframe thead th {\n",
       "        text-align: right;\n",
       "    }\n",
       "</style>\n",
       "<table border=\"1\" class=\"dataframe\">\n",
       "  <thead>\n",
       "    <tr style=\"text-align: right;\">\n",
       "      <th></th>\n",
       "      <th>Aquaponics_ID</th>\n",
       "      <th>Tank_L</th>\n",
       "      <th>Type</th>\n",
       "      <th>Initial_Cost</th>\n",
       "      <th>Maintenance_Cost</th>\n",
       "      <th>Duration_Months</th>\n",
       "    </tr>\n",
       "  </thead>\n",
       "  <tbody>\n",
       "    <tr>\n",
       "      <th>0</th>\n",
       "      <td>1</td>\n",
       "      <td>70.0</td>\n",
       "      <td>Home</td>\n",
       "      <td>1500.0</td>\n",
       "      <td>320.0</td>\n",
       "      <td>8</td>\n",
       "    </tr>\n",
       "    <tr>\n",
       "      <th>1</th>\n",
       "      <td>2</td>\n",
       "      <td>150.0</td>\n",
       "      <td>Home</td>\n",
       "      <td>2300.0</td>\n",
       "      <td>1003.0</td>\n",
       "      <td>6</td>\n",
       "    </tr>\n",
       "    <tr>\n",
       "      <th>2</th>\n",
       "      <td>3</td>\n",
       "      <td>150.0</td>\n",
       "      <td>Home</td>\n",
       "      <td>1600.0</td>\n",
       "      <td>430.0</td>\n",
       "      <td>4</td>\n",
       "    </tr>\n",
       "    <tr>\n",
       "      <th>3</th>\n",
       "      <td>4</td>\n",
       "      <td>3840.0</td>\n",
       "      <td>Commercial</td>\n",
       "      <td>43030.0</td>\n",
       "      <td>2003.0</td>\n",
       "      <td>6</td>\n",
       "    </tr>\n",
       "    <tr>\n",
       "      <th>4</th>\n",
       "      <td>5</td>\n",
       "      <td>960.0</td>\n",
       "      <td>Commercial</td>\n",
       "      <td>20800.0</td>\n",
       "      <td>1800.0</td>\n",
       "      <td>6</td>\n",
       "    </tr>\n",
       "  </tbody>\n",
       "</table>\n",
       "</div>"
      ],
      "text/plain": [
       "   Aquaponics_ID  Tank_L        Type  Initial_Cost  Maintenance_Cost  \\\n",
       "0              1    70.0        Home        1500.0             320.0   \n",
       "1              2   150.0        Home        2300.0            1003.0   \n",
       "2              3   150.0        Home        1600.0             430.0   \n",
       "3              4  3840.0  Commercial       43030.0            2003.0   \n",
       "4              5   960.0  Commercial       20800.0            1800.0   \n",
       "\n",
       "   Duration_Months  \n",
       "0                8  \n",
       "1                6  \n",
       "2                4  \n",
       "3                6  \n",
       "4                6  "
      ]
     },
     "execution_count": 4,
     "metadata": {},
     "output_type": "execute_result"
    }
   ],
   "source": [
    "exe.head()"
   ]
  },
  {
   "cell_type": "code",
   "execution_count": 9,
   "metadata": {},
   "outputs": [
    {
     "data": {
      "text/html": [
       "<div>\n",
       "<style scoped>\n",
       "    .dataframe tbody tr th:only-of-type {\n",
       "        vertical-align: middle;\n",
       "    }\n",
       "\n",
       "    .dataframe tbody tr th {\n",
       "        vertical-align: top;\n",
       "    }\n",
       "\n",
       "    .dataframe thead th {\n",
       "        text-align: right;\n",
       "    }\n",
       "</style>\n",
       "<table border=\"1\" class=\"dataframe\">\n",
       "  <thead>\n",
       "    <tr style=\"text-align: right;\">\n",
       "      <th></th>\n",
       "      <th>Aquaponics_ID</th>\n",
       "      <th>Tank_L</th>\n",
       "      <th>Type</th>\n",
       "      <th>Initial_Cost</th>\n",
       "      <th>Maintenance_Cost</th>\n",
       "      <th>Duration_Months</th>\n",
       "      <th>Yield</th>\n",
       "    </tr>\n",
       "  </thead>\n",
       "  <tbody>\n",
       "    <tr>\n",
       "      <th>0</th>\n",
       "      <td>1</td>\n",
       "      <td>70.0</td>\n",
       "      <td>Home</td>\n",
       "      <td>1500.0</td>\n",
       "      <td>320.0</td>\n",
       "      <td>8</td>\n",
       "      <td>1800.00</td>\n",
       "    </tr>\n",
       "    <tr>\n",
       "      <th>1</th>\n",
       "      <td>2</td>\n",
       "      <td>150.0</td>\n",
       "      <td>Home</td>\n",
       "      <td>2300.0</td>\n",
       "      <td>1003.0</td>\n",
       "      <td>6</td>\n",
       "      <td>533.33</td>\n",
       "    </tr>\n",
       "    <tr>\n",
       "      <th>2</th>\n",
       "      <td>3</td>\n",
       "      <td>150.0</td>\n",
       "      <td>Home</td>\n",
       "      <td>1600.0</td>\n",
       "      <td>430.0</td>\n",
       "      <td>4</td>\n",
       "      <td>523.50</td>\n",
       "    </tr>\n",
       "    <tr>\n",
       "      <th>3</th>\n",
       "      <td>4</td>\n",
       "      <td>3840.0</td>\n",
       "      <td>Commercial</td>\n",
       "      <td>43030.0</td>\n",
       "      <td>2003.0</td>\n",
       "      <td>6</td>\n",
       "      <td>30100.00</td>\n",
       "    </tr>\n",
       "    <tr>\n",
       "      <th>4</th>\n",
       "      <td>5</td>\n",
       "      <td>960.0</td>\n",
       "      <td>Commercial</td>\n",
       "      <td>20800.0</td>\n",
       "      <td>1800.0</td>\n",
       "      <td>6</td>\n",
       "      <td>4800.00</td>\n",
       "    </tr>\n",
       "  </tbody>\n",
       "</table>\n",
       "</div>"
      ],
      "text/plain": [
       "   Aquaponics_ID  Tank_L        Type  Initial_Cost  Maintenance_Cost  \\\n",
       "0              1    70.0        Home        1500.0             320.0   \n",
       "1              2   150.0        Home        2300.0            1003.0   \n",
       "2              3   150.0        Home        1600.0             430.0   \n",
       "3              4  3840.0  Commercial       43030.0            2003.0   \n",
       "4              5   960.0  Commercial       20800.0            1800.0   \n",
       "\n",
       "   Duration_Months     Yield  \n",
       "0                8   1800.00  \n",
       "1                6    533.33  \n",
       "2                4    523.50  \n",
       "3                6  30100.00  \n",
       "4                6   4800.00  "
      ]
     },
     "execution_count": 9,
     "metadata": {},
     "output_type": "execute_result"
    }
   ],
   "source": [
    "df = pd.concat([exe, cal['Yield']], axis=\"columns\")\n",
    "df.head()"
   ]
  },
  {
   "cell_type": "code",
   "execution_count": 10,
   "metadata": {},
   "outputs": [
    {
     "data": {
      "text/plain": [
       "Aquaponics_ID       0\n",
       "Tank_L              0\n",
       "Type                0\n",
       "Initial_Cost        0\n",
       "Maintenance_Cost    0\n",
       "Duration_Months     0\n",
       "Yield               0\n",
       "dtype: int64"
      ]
     },
     "execution_count": 10,
     "metadata": {},
     "output_type": "execute_result"
    }
   ],
   "source": [
    "df.isnull().sum()"
   ]
  },
  {
   "cell_type": "code",
   "execution_count": 11,
   "metadata": {},
   "outputs": [
    {
     "data": {
      "text/plain": [
       "(40, 7)"
      ]
     },
     "execution_count": 11,
     "metadata": {},
     "output_type": "execute_result"
    }
   ],
   "source": [
    "df.shape"
   ]
  },
  {
   "cell_type": "code",
   "execution_count": 12,
   "metadata": {},
   "outputs": [
    {
     "data": {
      "text/plain": [
       "<AxesSubplot:>"
      ]
     },
     "execution_count": 12,
     "metadata": {},
     "output_type": "execute_result"
    },
    {
     "data": {
      "image/png": "[encoded data removed]",
      "text/plain": [
       "<Figure size 432x288 with 1 Axes>"
      ]
     },
     "metadata": {
      "needs_background": "light"
     },
     "output_type": "display_data"
    }
   ],
   "source": [
    "df.Type.value_counts().plot(kind='bar')"
   ]
  },
  {
   "cell_type": "code",
   "execution_count": 13,
   "metadata": {},
   "outputs": [
    {
     "name": "stderr",
     "output_type": "stream",
     "text": [
      "c:\\Users\\hjohn\\AppData\\Local\\Programs\\Python\\Python38\\lib\\site-packages\\seaborn\\distributions.py:2619: FutureWarning: `distplot` is a deprecated function and will be removed in a future version. Please adapt your code to use either `displot` (a figure-level function with similar flexibility) or `histplot` (an axes-level function for histograms).\n",
      "  warnings.warn(msg, FutureWarning)\n"
     ]
    },
    {
     "data": {
      "text/plain": [
       "<AxesSubplot:title={'center':'Initial Cost Density'}, xlabel='Initial_Cost', ylabel='Density'>"
      ]
     },
     "execution_count": 13,
     "metadata": {},
     "output_type": "execute_result"
    },
    {
     "data": {
      "image/png": "[encoded data removed]",
      "text/plain": [
       "<Figure size 432x288 with 1 Axes>"
      ]
     },
     "metadata": {
      "needs_background": "light"
     },
     "output_type": "display_data"
    }
   ],
   "source": [
    "plt.title(\"Initial Cost Density\")\n",
    "sns.distplot(df.Initial_Cost)"
   ]
  },
  {
   "cell_type": "code",
   "execution_count": 15,
   "metadata": {},
   "outputs": [
    {
     "name": "stderr",
     "output_type": "stream",
     "text": [
      "c:\\Users\\hjohn\\AppData\\Local\\Programs\\Python\\Python38\\lib\\site-packages\\seaborn\\distributions.py:2619: FutureWarning: `distplot` is a deprecated function and will be removed in a future version. Please adapt your code to use either `displot` (a figure-level function with similar flexibility) or `histplot` (an axes-level function for histograms).\n",
      "  warnings.warn(msg, FutureWarning)\n"
     ]
    },
    {
     "data": {
      "text/plain": [
       "<AxesSubplot:xlabel='Duration_Months', ylabel='Density'>"
      ]
     },
     "execution_count": 15,
     "metadata": {},
     "output_type": "execute_result"
    },
    {
     "data": {
      "image/png": "[encoded data removed]",
      "text/plain": [
       "<Figure size 432x288 with 1 Axes>"
      ]
     },
     "metadata": {
      "needs_background": "light"
     },
     "output_type": "display_data"
    }
   ],
   "source": [
    "\n",
    "sns.distplot(df.Duration_Months)"
   ]
  },
  {
   "cell_type": "code",
   "execution_count": 17,
   "metadata": {},
   "outputs": [
    {
     "data": {
      "text/plain": [
       "8    13\n",
       "9    13\n",
       "6    12\n",
       "4     2\n",
       "Name: Duration_Months, dtype: int64"
      ]
     },
     "execution_count": 17,
     "metadata": {},
     "output_type": "execute_result"
    }
   ],
   "source": [
    "df.Duration_Months.value_counts()"
   ]
  },
  {
   "cell_type": "code",
   "execution_count": 18,
   "metadata": {},
   "outputs": [
    {
     "data": {
      "text/html": [
       "<div>\n",
       "<style scoped>\n",
       "    .dataframe tbody tr th:only-of-type {\n",
       "        vertical-align: middle;\n",
       "    }\n",
       "\n",
       "    .dataframe tbody tr th {\n",
       "        vertical-align: top;\n",
       "    }\n",
       "\n",
       "    .dataframe thead th {\n",
       "        text-align: right;\n",
       "    }\n",
       "</style>\n",
       "<table border=\"1\" class=\"dataframe\">\n",
       "  <thead>\n",
       "    <tr style=\"text-align: right;\">\n",
       "      <th></th>\n",
       "      <th>Aquaponics_ID</th>\n",
       "      <th>Tank_L</th>\n",
       "      <th>Initial_Cost</th>\n",
       "      <th>Maintenance_Cost</th>\n",
       "      <th>Duration_Months</th>\n",
       "      <th>Yield</th>\n",
       "    </tr>\n",
       "  </thead>\n",
       "  <tbody>\n",
       "    <tr>\n",
       "      <th>Aquaponics_ID</th>\n",
       "      <td>1.000000</td>\n",
       "      <td>0.265027</td>\n",
       "      <td>-0.030784</td>\n",
       "      <td>0.233833</td>\n",
       "      <td>0.390871</td>\n",
       "      <td>0.240412</td>\n",
       "    </tr>\n",
       "    <tr>\n",
       "      <th>Tank_L</th>\n",
       "      <td>0.265027</td>\n",
       "      <td>1.000000</td>\n",
       "      <td>0.547150</td>\n",
       "      <td>0.324604</td>\n",
       "      <td>0.192868</td>\n",
       "      <td>0.953100</td>\n",
       "    </tr>\n",
       "    <tr>\n",
       "      <th>Initial_Cost</th>\n",
       "      <td>-0.030784</td>\n",
       "      <td>0.547150</td>\n",
       "      <td>1.000000</td>\n",
       "      <td>0.662229</td>\n",
       "      <td>0.051070</td>\n",
       "      <td>0.500331</td>\n",
       "    </tr>\n",
       "    <tr>\n",
       "      <th>Maintenance_Cost</th>\n",
       "      <td>0.233833</td>\n",
       "      <td>0.324604</td>\n",
       "      <td>0.662229</td>\n",
       "      <td>1.000000</td>\n",
       "      <td>0.298493</td>\n",
       "      <td>0.355955</td>\n",
       "    </tr>\n",
       "    <tr>\n",
       "      <th>Duration_Months</th>\n",
       "      <td>0.390871</td>\n",
       "      <td>0.192868</td>\n",
       "      <td>0.051070</td>\n",
       "      <td>0.298493</td>\n",
       "      <td>1.000000</td>\n",
       "      <td>0.196994</td>\n",
       "    </tr>\n",
       "    <tr>\n",
       "      <th>Yield</th>\n",
       "      <td>0.240412</td>\n",
       "      <td>0.953100</td>\n",
       "      <td>0.500331</td>\n",
       "      <td>0.355955</td>\n",
       "      <td>0.196994</td>\n",
       "      <td>1.000000</td>\n",
       "    </tr>\n",
       "  </tbody>\n",
       "</table>\n",
       "</div>"
      ],
      "text/plain": [
       "                  Aquaponics_ID    Tank_L  Initial_Cost  Maintenance_Cost  \\\n",
       "Aquaponics_ID          1.000000  0.265027     -0.030784          0.233833   \n",
       "Tank_L                 0.265027  1.000000      0.547150          0.324604   \n",
       "Initial_Cost          -0.030784  0.547150      1.000000          0.662229   \n",
       "Maintenance_Cost       0.233833  0.324604      0.662229          1.000000   \n",
       "Duration_Months        0.390871  0.192868      0.051070          0.298493   \n",
       "Yield                  0.240412  0.953100      0.500331          0.355955   \n",
       "\n",
       "                  Duration_Months     Yield  \n",
       "Aquaponics_ID            0.390871  0.240412  \n",
       "Tank_L                   0.192868  0.953100  \n",
       "Initial_Cost             0.051070  0.500331  \n",
       "Maintenance_Cost         0.298493  0.355955  \n",
       "Duration_Months          1.000000  0.196994  \n",
       "Yield                    0.196994  1.000000  "
      ]
     },
     "execution_count": 18,
     "metadata": {},
     "output_type": "execute_result"
    }
   ],
   "source": [
    "df.corr()"
   ]
  },
  {
   "cell_type": "code",
   "execution_count": 19,
   "metadata": {},
   "outputs": [
    {
     "data": {
      "text/plain": [
       "Aquaponics_ID       0.240412\n",
       "Tank_L              0.953100\n",
       "Initial_Cost        0.500331\n",
       "Maintenance_Cost    0.355955\n",
       "Duration_Months     0.196994\n",
       "Yield               1.000000\n",
       "Name: Yield, dtype: float64"
      ]
     },
     "execution_count": 19,
     "metadata": {},
     "output_type": "execute_result"
    }
   ],
   "source": [
    "df.corr()['Yield']"
   ]
  },
  {
   "cell_type": "code",
   "execution_count": 20,
   "metadata": {},
   "outputs": [
    {
     "name": "stdout",
     "output_type": "stream",
     "text": [
      "<class 'pandas.core.frame.DataFrame'>\n",
      "RangeIndex: 40 entries, 0 to 39\n",
      "Data columns (total 7 columns):\n",
      " #   Column            Non-Null Count  Dtype  \n",
      "---  ------            --------------  -----  \n",
      " 0   Aquaponics_ID     40 non-null     int64  \n",
      " 1   Tank_L            40 non-null     float64\n",
      " 2   Type              40 non-null     object \n",
      " 3   Initial_Cost      40 non-null     float64\n",
      " 4   Maintenance_Cost  40 non-null     float64\n",
      " 5   Duration_Months   40 non-null     int64  \n",
      " 6   Yield             40 non-null     float64\n",
      "dtypes: float64(4), int64(2), object(1)\n",
      "memory usage: 2.3+ KB\n"
     ]
    }
   ],
   "source": [
    "df.info()"
   ]
  },
  {
   "cell_type": "code",
   "execution_count": 21,
   "metadata": {},
   "outputs": [
    {
     "data": {
      "text/html": [
       "<div>\n",
       "<style scoped>\n",
       "    .dataframe tbody tr th:only-of-type {\n",
       "        vertical-align: middle;\n",
       "    }\n",
       "\n",
       "    .dataframe tbody tr th {\n",
       "        vertical-align: top;\n",
       "    }\n",
       "\n",
       "    .dataframe thead th {\n",
       "        text-align: right;\n",
       "    }\n",
       "</style>\n",
       "<table border=\"1\" class=\"dataframe\">\n",
       "  <thead>\n",
       "    <tr style=\"text-align: right;\">\n",
       "      <th></th>\n",
       "      <th>Aquaponics_ID</th>\n",
       "      <th>Tank_L</th>\n",
       "      <th>Initial_Cost</th>\n",
       "      <th>Maintenance_Cost</th>\n",
       "      <th>Duration_Months</th>\n",
       "      <th>Yield</th>\n",
       "    </tr>\n",
       "  </thead>\n",
       "  <tbody>\n",
       "    <tr>\n",
       "      <th>count</th>\n",
       "      <td>40.000000</td>\n",
       "      <td>40.000000</td>\n",
       "      <td>40.000000</td>\n",
       "      <td>40.000000</td>\n",
       "      <td>40.00000</td>\n",
       "      <td>40.000000</td>\n",
       "    </tr>\n",
       "    <tr>\n",
       "      <th>mean</th>\n",
       "      <td>20.500000</td>\n",
       "      <td>1048.375000</td>\n",
       "      <td>9067.862000</td>\n",
       "      <td>4598.160000</td>\n",
       "      <td>7.52500</td>\n",
       "      <td>7230.492000</td>\n",
       "    </tr>\n",
       "    <tr>\n",
       "      <th>std</th>\n",
       "      <td>11.690452</td>\n",
       "      <td>1759.842791</td>\n",
       "      <td>11697.460785</td>\n",
       "      <td>8102.411744</td>\n",
       "      <td>1.46738</td>\n",
       "      <td>14423.603921</td>\n",
       "    </tr>\n",
       "    <tr>\n",
       "      <th>min</th>\n",
       "      <td>1.000000</td>\n",
       "      <td>70.000000</td>\n",
       "      <td>222.450000</td>\n",
       "      <td>200.000000</td>\n",
       "      <td>4.00000</td>\n",
       "      <td>400.000000</td>\n",
       "    </tr>\n",
       "    <tr>\n",
       "      <th>25%</th>\n",
       "      <td>10.750000</td>\n",
       "      <td>100.000000</td>\n",
       "      <td>1757.335000</td>\n",
       "      <td>735.225000</td>\n",
       "      <td>6.00000</td>\n",
       "      <td>660.077500</td>\n",
       "    </tr>\n",
       "    <tr>\n",
       "      <th>50%</th>\n",
       "      <td>20.500000</td>\n",
       "      <td>387.500000</td>\n",
       "      <td>2975.000000</td>\n",
       "      <td>1800.000000</td>\n",
       "      <td>8.00000</td>\n",
       "      <td>1845.000000</td>\n",
       "    </tr>\n",
       "    <tr>\n",
       "      <th>75%</th>\n",
       "      <td>30.250000</td>\n",
       "      <td>970.000000</td>\n",
       "      <td>10752.557500</td>\n",
       "      <td>2700.425000</td>\n",
       "      <td>9.00000</td>\n",
       "      <td>6105.000000</td>\n",
       "    </tr>\n",
       "    <tr>\n",
       "      <th>max</th>\n",
       "      <td>40.000000</td>\n",
       "      <td>9600.000000</td>\n",
       "      <td>43030.000000</td>\n",
       "      <td>32920.000000</td>\n",
       "      <td>9.00000</td>\n",
       "      <td>78000.000000</td>\n",
       "    </tr>\n",
       "  </tbody>\n",
       "</table>\n",
       "</div>"
      ],
      "text/plain": [
       "       Aquaponics_ID       Tank_L  Initial_Cost  Maintenance_Cost  \\\n",
       "count      40.000000    40.000000     40.000000         40.000000   \n",
       "mean       20.500000  1048.375000   9067.862000       4598.160000   \n",
       "std        11.690452  1759.842791  11697.460785       8102.411744   \n",
       "min         1.000000    70.000000    222.450000        200.000000   \n",
       "25%        10.750000   100.000000   1757.335000        735.225000   \n",
       "50%        20.500000   387.500000   2975.000000       1800.000000   \n",
       "75%        30.250000   970.000000  10752.557500       2700.425000   \n",
       "max        40.000000  9600.000000  43030.000000      32920.000000   \n",
       "\n",
       "       Duration_Months         Yield  \n",
       "count         40.00000     40.000000  \n",
       "mean           7.52500   7230.492000  \n",
       "std            1.46738  14423.603921  \n",
       "min            4.00000    400.000000  \n",
       "25%            6.00000    660.077500  \n",
       "50%            8.00000   1845.000000  \n",
       "75%            9.00000   6105.000000  \n",
       "max            9.00000  78000.000000  "
      ]
     },
     "execution_count": 21,
     "metadata": {},
     "output_type": "execute_result"
    }
   ],
   "source": [
    "df.describe()"
   ]
  },
  {
   "cell_type": "code",
   "execution_count": 22,
   "metadata": {},
   "outputs": [
    {
     "data": {
      "text/plain": [
       "<AxesSubplot:>"
      ]
     },
     "execution_count": 22,
     "metadata": {},
     "output_type": "execute_result"
    },
    {
     "data": {
      "image/png": "[encoded data removed]",
      "text/plain": [
       "<Figure size 720x720 with 2 Axes>"
      ]
     },
     "metadata": {
      "needs_background": "light"
     },
     "output_type": "display_data"
    }
   ],
   "source": [
    "plt.figure(figsize=(10,10))\n",
    "sns.heatmap(df.corr(), annot=True)"
   ]
  },
  {
   "cell_type": "code",
   "execution_count": 23,
   "metadata": {},
   "outputs": [
    {
     "data": {
      "text/html": [
       "<div>\n",
       "<style scoped>\n",
       "    .dataframe tbody tr th:only-of-type {\n",
       "        vertical-align: middle;\n",
       "    }\n",
       "\n",
       "    .dataframe tbody tr th {\n",
       "        vertical-align: top;\n",
       "    }\n",
       "\n",
       "    .dataframe thead th {\n",
       "        text-align: right;\n",
       "    }\n",
       "</style>\n",
       "<table border=\"1\" class=\"dataframe\">\n",
       "  <thead>\n",
       "    <tr style=\"text-align: right;\">\n",
       "      <th></th>\n",
       "      <th>Aquaponics_ID</th>\n",
       "      <th>Tank_L</th>\n",
       "      <th>Type</th>\n",
       "      <th>Initial_Cost</th>\n",
       "      <th>Maintenance_Cost</th>\n",
       "      <th>Duration_Months</th>\n",
       "      <th>Yield</th>\n",
       "    </tr>\n",
       "  </thead>\n",
       "  <tbody>\n",
       "    <tr>\n",
       "      <th>0</th>\n",
       "      <td>1</td>\n",
       "      <td>70.0</td>\n",
       "      <td>Home</td>\n",
       "      <td>1500.0</td>\n",
       "      <td>320.0</td>\n",
       "      <td>8</td>\n",
       "      <td>1800.00</td>\n",
       "    </tr>\n",
       "    <tr>\n",
       "      <th>1</th>\n",
       "      <td>2</td>\n",
       "      <td>150.0</td>\n",
       "      <td>Home</td>\n",
       "      <td>2300.0</td>\n",
       "      <td>1003.0</td>\n",
       "      <td>6</td>\n",
       "      <td>533.33</td>\n",
       "    </tr>\n",
       "    <tr>\n",
       "      <th>2</th>\n",
       "      <td>3</td>\n",
       "      <td>150.0</td>\n",
       "      <td>Home</td>\n",
       "      <td>1600.0</td>\n",
       "      <td>430.0</td>\n",
       "      <td>4</td>\n",
       "      <td>523.50</td>\n",
       "    </tr>\n",
       "    <tr>\n",
       "      <th>3</th>\n",
       "      <td>4</td>\n",
       "      <td>3840.0</td>\n",
       "      <td>Commercial</td>\n",
       "      <td>43030.0</td>\n",
       "      <td>2003.0</td>\n",
       "      <td>6</td>\n",
       "      <td>30100.00</td>\n",
       "    </tr>\n",
       "    <tr>\n",
       "      <th>4</th>\n",
       "      <td>5</td>\n",
       "      <td>960.0</td>\n",
       "      <td>Commercial</td>\n",
       "      <td>20800.0</td>\n",
       "      <td>1800.0</td>\n",
       "      <td>6</td>\n",
       "      <td>4800.00</td>\n",
       "    </tr>\n",
       "  </tbody>\n",
       "</table>\n",
       "</div>"
      ],
      "text/plain": [
       "   Aquaponics_ID  Tank_L        Type  Initial_Cost  Maintenance_Cost  \\\n",
       "0              1    70.0        Home        1500.0             320.0   \n",
       "1              2   150.0        Home        2300.0            1003.0   \n",
       "2              3   150.0        Home        1600.0             430.0   \n",
       "3              4  3840.0  Commercial       43030.0            2003.0   \n",
       "4              5   960.0  Commercial       20800.0            1800.0   \n",
       "\n",
       "   Duration_Months     Yield  \n",
       "0                8   1800.00  \n",
       "1                6    533.33  \n",
       "2                4    523.50  \n",
       "3                6  30100.00  \n",
       "4                6   4800.00  "
      ]
     },
     "execution_count": 23,
     "metadata": {},
     "output_type": "execute_result"
    }
   ],
   "source": [
    "df.head()"
   ]
  },
  {
   "cell_type": "code",
   "execution_count": 24,
   "metadata": {},
   "outputs": [
    {
     "data": {
      "text/plain": [
       "array(['Home', 'Commercial'], dtype=object)"
      ]
     },
     "execution_count": 24,
     "metadata": {},
     "output_type": "execute_result"
    }
   ],
   "source": [
    "df.Type.unique()"
   ]
  },
  {
   "cell_type": "code",
   "execution_count": 25,
   "metadata": {},
   "outputs": [
    {
     "data": {
      "image/png": "[encoded data removed]",
      "text/plain": [
       "<Figure size 432x288 with 1 Axes>"
      ]
     },
     "metadata": {
      "needs_background": "light"
     },
     "output_type": "display_data"
    }
   ],
   "source": [
    "sns.barplot(x=df.Type, y=df.Yield)\n",
    "plt.xticks(rotation='vertical')\n",
    "plt.show()"
   ]
  },
  {
   "cell_type": "code",
   "execution_count": 26,
   "metadata": {},
   "outputs": [
    {
     "data": {
      "image/png": "[encoded data removed]",
      "text/plain": [
       "<Figure size 432x288 with 1 Axes>"
      ]
     },
     "metadata": {
      "needs_background": "light"
     },
     "output_type": "display_data"
    }
   ],
   "source": [
    "sns.lineplot(x=df.Tank_L, y=df.Yield)\n",
    "\n",
    "plt.show()"
   ]
  },
  {
   "cell_type": "code",
   "execution_count": 27,
   "metadata": {},
   "outputs": [
    {
     "name": "stderr",
     "output_type": "stream",
     "text": [
      "c:\\Users\\hjohn\\AppData\\Local\\Programs\\Python\\Python38\\lib\\site-packages\\seaborn\\distributions.py:2619: FutureWarning: `distplot` is a deprecated function and will be removed in a future version. Please adapt your code to use either `displot` (a figure-level function with similar flexibility) or `histplot` (an axes-level function for histograms).\n",
      "  warnings.warn(msg, FutureWarning)\n"
     ]
    },
    {
     "data": {
      "image/png": "[encoded data removed]",
      "text/plain": [
       "<Figure size 432x288 with 1 Axes>"
      ]
     },
     "metadata": {
      "needs_background": "light"
     },
     "output_type": "display_data"
    }
   ],
   "source": [
    "sns.distplot(x=df.Maintenance_Cost)\n",
    "plt.show()"
   ]
  },
  {
   "cell_type": "code",
   "execution_count": 28,
   "metadata": {},
   "outputs": [
    {
     "data": {
      "image/png": "[encoded data removed]",
      "text/plain": [
       "<Figure size 432x288 with 1 Axes>"
      ]
     },
     "metadata": {
      "needs_background": "light"
     },
     "output_type": "display_data"
    }
   ],
   "source": [
    "sns.lineplot(x=df.Maintenance_Cost, y=df.Yield)\n",
    "plt.show()"
   ]
  },
  {
   "cell_type": "code",
   "execution_count": 29,
   "metadata": {
    "scrolled": true
   },
   "outputs": [
    {
     "data": {
      "image/png": "[encoded data removed]",
      "text/plain": [
       "<Figure size 432x288 with 1 Axes>"
      ]
     },
     "metadata": {
      "needs_background": "light"
     },
     "output_type": "display_data"
    }
   ],
   "source": [
    "sns.lineplot(x=df.Duration_Months, y=df.Yield)\n",
    "plt.show()"
   ]
  },
  {
   "cell_type": "code",
   "execution_count": 30,
   "metadata": {},
   "outputs": [
    {
     "data": {
      "image/png": "[encoded data removed]",
      "text/plain": [
       "<Figure size 432x288 with 1 Axes>"
      ]
     },
     "metadata": {
      "needs_background": "light"
     },
     "output_type": "display_data"
    }
   ],
   "source": [
    "sns.lineplot(x=df.Initial_Cost, y=df.Yield)\n",
    "plt.show()"
   ]
  },
  {
   "cell_type": "code",
   "execution_count": 31,
   "metadata": {},
   "outputs": [
    {
     "data": {
      "image/png": "[encoded data removed]",
      "text/plain": [
       "<Figure size 432x288 with 1 Axes>"
      ]
     },
     "metadata": {
      "needs_background": "light"
     },
     "output_type": "display_data"
    }
   ],
   "source": [
    "sns.lineplot(x=df.Duration_Months, y=df.Yield)\n",
    "plt.show()"
   ]
  },
  {
   "cell_type": "code",
   "execution_count": 32,
   "metadata": {},
   "outputs": [
    {
     "data": {
      "text/html": [
       "<div>\n",
       "<style scoped>\n",
       "    .dataframe tbody tr th:only-of-type {\n",
       "        vertical-align: middle;\n",
       "    }\n",
       "\n",
       "    .dataframe tbody tr th {\n",
       "        vertical-align: top;\n",
       "    }\n",
       "\n",
       "    .dataframe thead th {\n",
       "        text-align: right;\n",
       "    }\n",
       "</style>\n",
       "<table border=\"1\" class=\"dataframe\">\n",
       "  <thead>\n",
       "    <tr style=\"text-align: right;\">\n",
       "      <th></th>\n",
       "      <th>Aquaponics_ID</th>\n",
       "      <th>Tank_L</th>\n",
       "      <th>Type</th>\n",
       "      <th>Initial_Cost</th>\n",
       "      <th>Maintenance_Cost</th>\n",
       "      <th>Duration_Months</th>\n",
       "      <th>Yield</th>\n",
       "    </tr>\n",
       "  </thead>\n",
       "  <tbody>\n",
       "    <tr>\n",
       "      <th>0</th>\n",
       "      <td>1</td>\n",
       "      <td>70.0</td>\n",
       "      <td>Home</td>\n",
       "      <td>1500.0</td>\n",
       "      <td>320.0</td>\n",
       "      <td>8</td>\n",
       "      <td>1800.00</td>\n",
       "    </tr>\n",
       "    <tr>\n",
       "      <th>1</th>\n",
       "      <td>2</td>\n",
       "      <td>150.0</td>\n",
       "      <td>Home</td>\n",
       "      <td>2300.0</td>\n",
       "      <td>1003.0</td>\n",
       "      <td>6</td>\n",
       "      <td>533.33</td>\n",
       "    </tr>\n",
       "    <tr>\n",
       "      <th>2</th>\n",
       "      <td>3</td>\n",
       "      <td>150.0</td>\n",
       "      <td>Home</td>\n",
       "      <td>1600.0</td>\n",
       "      <td>430.0</td>\n",
       "      <td>4</td>\n",
       "      <td>523.50</td>\n",
       "    </tr>\n",
       "    <tr>\n",
       "      <th>3</th>\n",
       "      <td>4</td>\n",
       "      <td>3840.0</td>\n",
       "      <td>Commercial</td>\n",
       "      <td>43030.0</td>\n",
       "      <td>2003.0</td>\n",
       "      <td>6</td>\n",
       "      <td>30100.00</td>\n",
       "    </tr>\n",
       "    <tr>\n",
       "      <th>4</th>\n",
       "      <td>5</td>\n",
       "      <td>960.0</td>\n",
       "      <td>Commercial</td>\n",
       "      <td>20800.0</td>\n",
       "      <td>1800.0</td>\n",
       "      <td>6</td>\n",
       "      <td>4800.00</td>\n",
       "    </tr>\n",
       "  </tbody>\n",
       "</table>\n",
       "</div>"
      ],
      "text/plain": [
       "   Aquaponics_ID  Tank_L        Type  Initial_Cost  Maintenance_Cost  \\\n",
       "0              1    70.0        Home        1500.0             320.0   \n",
       "1              2   150.0        Home        2300.0            1003.0   \n",
       "2              3   150.0        Home        1600.0             430.0   \n",
       "3              4  3840.0  Commercial       43030.0            2003.0   \n",
       "4              5   960.0  Commercial       20800.0            1800.0   \n",
       "\n",
       "   Duration_Months     Yield  \n",
       "0                8   1800.00  \n",
       "1                6    533.33  \n",
       "2                4    523.50  \n",
       "3                6  30100.00  \n",
       "4                6   4800.00  "
      ]
     },
     "execution_count": 32,
     "metadata": {},
     "output_type": "execute_result"
    }
   ],
   "source": [
    "df.head()"
   ]
  },
  {
   "cell_type": "code",
   "execution_count": 33,
   "metadata": {},
   "outputs": [
    {
     "data": {
      "text/plain": [
       "<seaborn.axisgrid.PairGrid at 0x1fa85096490>"
      ]
     },
     "execution_count": 33,
     "metadata": {},
     "output_type": "execute_result"
    },
    {
     "data": {
      "image/png": "[encoded data removed]",
      "text/plain": [
       "<Figure size 1080x1080 with 42 Axes>"
      ]
     },
     "metadata": {
      "needs_background": "light"
     },
     "output_type": "display_data"
    }
   ],
   "source": [
    "sns.pairplot(df)"
   ]
  },
  {
   "cell_type": "code",
   "execution_count": 35,
   "metadata": {},
   "outputs": [],
   "source": [
    "X = df.drop(['Yield', 'Aquaponics_ID'], axis=\"columns\")\n",
    "y = df.Yield"
   ]
  },
  {
   "cell_type": "code",
   "execution_count": 36,
   "metadata": {},
   "outputs": [
    {
     "data": {
      "text/html": [
       "<div>\n",
       "<style scoped>\n",
       "    .dataframe tbody tr th:only-of-type {\n",
       "        vertical-align: middle;\n",
       "    }\n",
       "\n",
       "    .dataframe tbody tr th {\n",
       "        vertical-align: top;\n",
       "    }\n",
       "\n",
       "    .dataframe thead th {\n",
       "        text-align: right;\n",
       "    }\n",
       "</style>\n",
       "<table border=\"1\" class=\"dataframe\">\n",
       "  <thead>\n",
       "    <tr style=\"text-align: right;\">\n",
       "      <th></th>\n",
       "      <th>Tank_L</th>\n",
       "      <th>Type</th>\n",
       "      <th>Initial_Cost</th>\n",
       "      <th>Maintenance_Cost</th>\n",
       "      <th>Duration_Months</th>\n",
       "    </tr>\n",
       "  </thead>\n",
       "  <tbody>\n",
       "    <tr>\n",
       "      <th>0</th>\n",
       "      <td>70.0</td>\n",
       "      <td>Home</td>\n",
       "      <td>1500.0</td>\n",
       "      <td>320.0</td>\n",
       "      <td>8</td>\n",
       "    </tr>\n",
       "    <tr>\n",
       "      <th>1</th>\n",
       "      <td>150.0</td>\n",
       "      <td>Home</td>\n",
       "      <td>2300.0</td>\n",
       "      <td>1003.0</td>\n",
       "      <td>6</td>\n",
       "    </tr>\n",
       "    <tr>\n",
       "      <th>2</th>\n",
       "      <td>150.0</td>\n",
       "      <td>Home</td>\n",
       "      <td>1600.0</td>\n",
       "      <td>430.0</td>\n",
       "      <td>4</td>\n",
       "    </tr>\n",
       "    <tr>\n",
       "      <th>3</th>\n",
       "      <td>3840.0</td>\n",
       "      <td>Commercial</td>\n",
       "      <td>43030.0</td>\n",
       "      <td>2003.0</td>\n",
       "      <td>6</td>\n",
       "    </tr>\n",
       "    <tr>\n",
       "      <th>4</th>\n",
       "      <td>960.0</td>\n",
       "      <td>Commercial</td>\n",
       "      <td>20800.0</td>\n",
       "      <td>1800.0</td>\n",
       "      <td>6</td>\n",
       "    </tr>\n",
       "  </tbody>\n",
       "</table>\n",
       "</div>"
      ],
      "text/plain": [
       "   Tank_L        Type  Initial_Cost  Maintenance_Cost  Duration_Months\n",
       "0    70.0        Home        1500.0             320.0                8\n",
       "1   150.0        Home        2300.0            1003.0                6\n",
       "2   150.0        Home        1600.0             430.0                4\n",
       "3  3840.0  Commercial       43030.0            2003.0                6\n",
       "4   960.0  Commercial       20800.0            1800.0                6"
      ]
     },
     "execution_count": 36,
     "metadata": {},
     "output_type": "execute_result"
    }
   ],
   "source": [
    "X.head()"
   ]
  },
  {
   "cell_type": "code",
   "execution_count": 37,
   "metadata": {},
   "outputs": [
    {
     "data": {
      "text/plain": [
       "0     1800.00\n",
       "1      533.33\n",
       "2      523.50\n",
       "3    30100.00\n",
       "4     4800.00\n",
       "Name: Yield, dtype: float64"
      ]
     },
     "execution_count": 37,
     "metadata": {},
     "output_type": "execute_result"
    }
   ],
   "source": [
    "y.head()"
   ]
  },
  {
   "cell_type": "code",
   "execution_count": 38,
   "metadata": {},
   "outputs": [],
   "source": [
    "from sklearn.model_selection import train_test_split\n",
    "X_train, X_test, y_train, y_test = train_test_split(X, y, test_size=0.2, random_state=2)"
   ]
  },
  {
   "cell_type": "code",
   "execution_count": 39,
   "metadata": {},
   "outputs": [
    {
     "data": {
      "text/html": [
       "<div>\n",
       "<style scoped>\n",
       "    .dataframe tbody tr th:only-of-type {\n",
       "        vertical-align: middle;\n",
       "    }\n",
       "\n",
       "    .dataframe tbody tr th {\n",
       "        vertical-align: top;\n",
       "    }\n",
       "\n",
       "    .dataframe thead th {\n",
       "        text-align: right;\n",
       "    }\n",
       "</style>\n",
       "<table border=\"1\" class=\"dataframe\">\n",
       "  <thead>\n",
       "    <tr style=\"text-align: right;\">\n",
       "      <th></th>\n",
       "      <th>Tank_L</th>\n",
       "      <th>Type</th>\n",
       "      <th>Initial_Cost</th>\n",
       "      <th>Maintenance_Cost</th>\n",
       "      <th>Duration_Months</th>\n",
       "    </tr>\n",
       "  </thead>\n",
       "  <tbody>\n",
       "    <tr>\n",
       "      <th>17</th>\n",
       "      <td>100.0</td>\n",
       "      <td>Home</td>\n",
       "      <td>1300.33</td>\n",
       "      <td>760.3</td>\n",
       "      <td>9</td>\n",
       "    </tr>\n",
       "    <tr>\n",
       "      <th>37</th>\n",
       "      <td>9600.0</td>\n",
       "      <td>Commercial</td>\n",
       "      <td>13000.33</td>\n",
       "      <td>9090.0</td>\n",
       "      <td>9</td>\n",
       "    </tr>\n",
       "    <tr>\n",
       "      <th>38</th>\n",
       "      <td>960.0</td>\n",
       "      <td>Home</td>\n",
       "      <td>2300.00</td>\n",
       "      <td>2300.0</td>\n",
       "      <td>6</td>\n",
       "    </tr>\n",
       "    <tr>\n",
       "      <th>29</th>\n",
       "      <td>70.0</td>\n",
       "      <td>Home</td>\n",
       "      <td>2800.00</td>\n",
       "      <td>2100.0</td>\n",
       "      <td>8</td>\n",
       "    </tr>\n",
       "    <tr>\n",
       "      <th>24</th>\n",
       "      <td>2000.0</td>\n",
       "      <td>Commercial</td>\n",
       "      <td>10003.30</td>\n",
       "      <td>15003.3</td>\n",
       "      <td>9</td>\n",
       "    </tr>\n",
       "  </tbody>\n",
       "</table>\n",
       "</div>"
      ],
      "text/plain": [
       "    Tank_L        Type  Initial_Cost  Maintenance_Cost  Duration_Months\n",
       "17   100.0        Home       1300.33             760.3                9\n",
       "37  9600.0  Commercial      13000.33            9090.0                9\n",
       "38   960.0        Home       2300.00            2300.0                6\n",
       "29    70.0        Home       2800.00            2100.0                8\n",
       "24  2000.0  Commercial      10003.30           15003.3                9"
      ]
     },
     "execution_count": 39,
     "metadata": {},
     "output_type": "execute_result"
    }
   ],
   "source": [
    "X_train.head()"
   ]
  },
  {
   "cell_type": "code",
   "execution_count": 40,
   "metadata": {},
   "outputs": [
    {
     "data": {
      "text/plain": [
       "17      640.3\n",
       "37    78000.0\n",
       "38     4800.0\n",
       "29      980.0\n",
       "24    12200.0\n",
       "Name: Yield, dtype: float64"
      ]
     },
     "execution_count": 40,
     "metadata": {},
     "output_type": "execute_result"
    }
   ],
   "source": [
    "y_train.head()"
   ]
  },
  {
   "cell_type": "code",
   "execution_count": 47,
   "metadata": {},
   "outputs": [],
   "source": [
    "from sklearn.compose import ColumnTransformer\n",
    "from sklearn.pipeline import Pipeline\n",
    "from sklearn.preprocessing import OneHotEncoder\n",
    "from sklearn.tree import DecisionTreeRegressor\n",
    "from sklearn.ensemble import RandomForestRegressor"
   ]
  },
  {
   "cell_type": "markdown",
   "metadata": {},
   "source": [
    "#### Decision Tree"
   ]
  },
  {
   "cell_type": "code",
   "execution_count": 48,
   "metadata": {},
   "outputs": [],
   "source": [
    "step1 = ColumnTransformer(transformers=[('col_tnf', OneHotEncoder(sparse=False, drop='first'), ['Type'])], remainder='passthrough')\n",
    "\n",
    "step2 = DecisionTreeRegressor()"
   ]
  },
  {
   "cell_type": "code",
   "execution_count": 49,
   "metadata": {},
   "outputs": [
    {
     "data": {
      "text/plain": [
       "Pipeline(steps=[('step1',\n",
       "                 ColumnTransformer(remainder='passthrough',\n",
       "                                   transformers=[('col_tnf',\n",
       "                                                  OneHotEncoder(drop='first',\n",
       "                                                                sparse=False),\n",
       "                                                  ['Type'])])),\n",
       "                ('step2', DecisionTreeRegressor())])"
      ]
     },
     "execution_count": 49,
     "metadata": {},
     "output_type": "execute_result"
    }
   ],
   "source": [
    "pipe = Pipeline([\n",
    "    ('step1', step1),\n",
    "    ('step2', step2)\n",
    "])\n",
    "pipe.fit(X_train, y_train)"
   ]
  },
  {
   "cell_type": "code",
   "execution_count": 50,
   "metadata": {},
   "outputs": [],
   "source": [
    "y_pred = pipe.predict(X_test)"
   ]
  },
  {
   "cell_type": "code",
   "execution_count": 51,
   "metadata": {},
   "outputs": [
    {
     "data": {
      "text/plain": [
       "0.8534869965522379"
      ]
     },
     "execution_count": 51,
     "metadata": {},
     "output_type": "execute_result"
    }
   ],
   "source": [
    "pipe.score(X_test, y_test)"
   ]
  },
  {
   "cell_type": "code",
   "execution_count": 52,
   "metadata": {},
   "outputs": [
    {
     "name": "stdout",
     "output_type": "stream",
     "text": [
      "R2 score 0.8534869965522379\n",
      "MAE 1703.5625\n"
     ]
    }
   ],
   "source": [
    "from sklearn.metrics import r2_score,mean_absolute_error\n",
    "print('R2 score', r2_score(y_test,y_pred))\n",
    "print('MAE', mean_absolute_error(y_test,y_pred))"
   ]
  },
  {
   "cell_type": "markdown",
   "metadata": {},
   "source": [
    "#### Random Forest Regressor"
   ]
  },
  {
   "cell_type": "code",
   "execution_count": 54,
   "metadata": {},
   "outputs": [
    {
     "data": {
      "text/plain": [
       "0.9926292664400989"
      ]
     },
     "execution_count": 54,
     "metadata": {},
     "output_type": "execute_result"
    }
   ],
   "source": [
    "rfstep1 = ColumnTransformer(transformers=[('col_tnf', OneHotEncoder(sparse=False, drop='first'), ['Type'])], remainder='passthrough')\n",
    "\n",
    "rfstep2 = RandomForestRegressor()\n",
    "\n",
    "rfpipe = Pipeline([\n",
    "    ('rfstep1', rfstep1),\n",
    "    ('rfstep2', rfstep2)\n",
    "])\n",
    "rfpipe.fit(X_train, y_train)\n",
    "\n",
    "y_predrf = pipe.predict(X_test)\n",
    "\n",
    "rfpipe.score(X_test, y_test)"
   ]
  },
  {
   "cell_type": "code",
   "execution_count": 55,
   "metadata": {},
   "outputs": [
    {
     "name": "stdout",
     "output_type": "stream",
     "text": [
      "R2 score 0.8534869965522379\n",
      "MAE 1703.5625\n"
     ]
    }
   ],
   "source": [
    "print('R2 score', r2_score(y_test,y_predrf))\n",
    "print('MAE', mean_absolute_error(y_test,y_predrf))"
   ]
  },
  {
   "cell_type": "code",
   "execution_count": 56,
   "metadata": {},
   "outputs": [],
   "source": [
    "import pickle\n",
    "pickle.dump(pipe,open('Yield_DecisionTree.pkl', 'wb'))"
   ]
  }
 ],
 "metadata": {
  "kernelspec": {
   "display_name": "Python 3.8.3 64-bit",
   "language": "python",
   "name": "python3"
  },
  "language_info": {
   "codemirror_mode": {
    "name": "ipython",
    "version": 3
   },
   "file_extension": ".py",
   "mimetype": "text/x-python",
   "name": "python",
   "nbconvert_exporter": "python",
   "pygments_lexer": "ipython3",
   "version": "3.8.3"
  },
  "vscode": {
   "interpreter": {
    "hash": "84b1ab8b46561bfec022653360d24f8bf6cf256b309a620cdb4ee88ba37181bd"
   }
  }
 },
 "nbformat": 4,
 "nbformat_minor": 5
}
